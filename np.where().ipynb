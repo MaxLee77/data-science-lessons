{
  "cells": [
    {
      "cell_type": "markdown",
      "metadata": {
        "id": "PNNpFfSSZaUw"
      },
      "source": [
        "![Imgur](https://i.imgur.com/5pXzCIu.png)"
      ]
    },
    {
      "cell_type": "markdown",
      "metadata": {
        "id": "zTwn4OxpZcIl"
      },
      "source": [
        "# Data Science va Sun'iy Intellekt Praktikum\n",
        "\n",
        "## Ma'lumotlar tahlili.\n",
        "## 2.1. NumPy kutubxonasi bilan ishlash"
      ]
    },
    {
      "cell_type": "markdown",
      "metadata": {
        "id": "DYp3_KroZfSq"
      },
      "source": [
        "### NumPy kutubxonasini chaqirib olish"
      ]
    },
    {
      "cell_type": "code",
      "execution_count": 2,
      "metadata": {
        "id": "6f9tO07zYEi1"
      },
      "outputs": [],
      "source": [
        "import numpy as np"
      ]
    },
    {
      "cell_type": "markdown",
      "metadata": {
        "id": "0TzeAc9XZjes"
      },
      "source": [
        "### 2.1.3. Massivga yo'naltirilgan dasturlash"
      ]
    },
    {
      "cell_type": "markdown",
      "metadata": {
        "id": "9smD1SX6Zri5"
      },
      "source": [
        "### Mantiqiy shart operatorlarni massiv operator sifatida qo'llash"
      ]
    },
    {
      "cell_type": "markdown",
      "metadata": {
        "id": "l_U7QSF7aIPL"
      },
      "source": [
        "### Shart operatori sifatida `where` dan foydalanish"
      ]
    },
    {
      "cell_type": "markdown",
      "metadata": {
        "id": "a6bYV_yocQrs"
      },
      "source": [
        "### Tassavur qiling bizda ikkita ma'lumotlar (massivlar) mavjud bular: `xarr` va `yarr`. Agarda shart `True`ni qanoatlantirsa `xarr` elementini qabul qilgan aksincha esa `yarr` elementini qabul qilgan yangi massiv hosil qilinsin."
      ]
    },
    {
      "cell_type": "code",
      "execution_count": null,
      "metadata": {
        "id": "uet_VgeQZhKM"
      },
      "outputs": [],
      "source": [
        "# Massivlar\n",
        "xarr = np.array([1.1, 1.2, 1.3, 1.4, 1.5]) # xarr\n",
        "yarr = np.array([2.1, 2.2, 2.3, 2.4, 2.5]) # yarr"
      ]
    },
    {
      "cell_type": "code",
      "execution_count": null,
      "metadata": {
        "id": "braOAXM0dmIR"
      },
      "outputs": [],
      "source": [
        "# Shart\n",
        "cond = np.array([True, False, True, True, False])"
      ]
    },
    {
      "cell_type": "code",
      "execution_count": null,
      "metadata": {
        "colab": {
          "base_uri": "https://localhost:8080/"
        },
        "id": "nNGabDPghWJR",
        "outputId": "3923857b-4890-4c21-d0ae-74592bb938b0"
      },
      "outputs": [
        {
          "data": {
            "text/plain": [
              "array([1.1, 2.2, 1.3, 1.4, 2.5])"
            ]
          },
          "execution_count": 7,
          "metadata": {},
          "output_type": "execute_result"
        }
      ],
      "source": [
        "# where\n",
        "result = np.where(cond, xarr, yarr) # cond==True : xarr elementi, cond==False : yarr elementi\n",
        "result"
      ]
    },
    {
      "cell_type": "code",
      "execution_count": null,
      "metadata": {
        "colab": {
          "base_uri": "https://localhost:8080/"
        },
        "id": "N0V1aPoCiowg",
        "outputId": "c74b0095-c2fe-4014-f213-ac9423edd592"
      },
      "outputs": [
        {
          "data": {
            "text/plain": [
              "array([[-1.6297284 , -0.54502   , -1.62194039,  0.21950899],\n",
              "       [-1.02568231, -1.22287873, -3.35638726,  1.38844975],\n",
              "       [ 0.29573755, -1.474369  , -0.87661759,  0.50263388],\n",
              "       [ 0.5828061 , -1.80441975, -0.58818259,  1.05593611]])"
            ]
          },
          "execution_count": 8,
          "metadata": {},
          "output_type": "execute_result"
        }
      ],
      "source": [
        "arr = np.random.randn(4, 4)  # (4, 4) taxminiy massiv\n",
        "arr"
      ]
    },
    {
      "cell_type": "code",
      "execution_count": null,
      "metadata": {
        "colab": {
          "base_uri": "https://localhost:8080/"
        },
        "id": "5Ov_uFGskFpD",
        "outputId": "6f3dc4f7-ec48-419e-99d6-7ec89be3d856"
      },
      "outputs": [
        {
          "data": {
            "text/plain": [
              "array([[-2, -2, -2,  2],\n",
              "       [-2, -2, -2,  2],\n",
              "       [ 2, -2, -2,  2],\n",
              "       [ 2, -2, -2,  2]])"
            ]
          },
          "execution_count": 9,
          "metadata": {},
          "output_type": "execute_result"
        }
      ],
      "source": [
        "# where\n",
        "results = np.where(arr<0, -2, 2) # arr ning manfiy elementlarini -2 ga musbat elementlarin esa 2 ga almashitirish\n",
        "results"
      ]
    },
    {
      "cell_type": "code",
      "source": [
        "mrr = np.random.randn(8, 5)\n",
        "mrr"
      ],
      "metadata": {
        "id": "OfWM2IsM3jQj",
        "outputId": "a717d1a4-9230-4ea6-da0d-b6d420a84ea3",
        "colab": {
          "base_uri": "https://localhost:8080/"
        }
      },
      "execution_count": 3,
      "outputs": [
        {
          "output_type": "execute_result",
          "data": {
            "text/plain": [
              "array([[-1.34471794,  0.33731943,  0.39914503, -0.47037696, -0.40564626],\n",
              "       [ 1.29618083, -1.03815929,  0.83315143, -0.55814186,  1.17356162],\n",
              "       [ 0.56517915, -0.54851203, -0.77357922, -0.44345065, -0.25076048],\n",
              "       [-1.39129509, -0.62718648, -0.04581288, -1.24735983, -0.51222416],\n",
              "       [ 1.17997266,  1.34030402,  1.02160504, -0.99021568,  0.52092116],\n",
              "       [ 0.26418999, -1.02043533,  0.17208216, -2.20605697,  0.13597332],\n",
              "       [ 0.48472173,  0.28578183,  1.16994744,  1.23168495,  0.20617735],\n",
              "       [-0.89489466, -0.38564637,  1.04616189,  0.80947838,  1.73673012]])"
            ]
          },
          "metadata": {},
          "execution_count": 3
        }
      ]
    },
    {
      "cell_type": "code",
      "source": [
        "fixed_mrr = np.where(mrr<=0, 0, 1)\n",
        "fixed_mrr"
      ],
      "metadata": {
        "id": "9SQuyx7Q379v",
        "outputId": "643da9d1-384a-4528-b943-1a49efca4639",
        "colab": {
          "base_uri": "https://localhost:8080/"
        }
      },
      "execution_count": 5,
      "outputs": [
        {
          "output_type": "execute_result",
          "data": {
            "text/plain": [
              "array([[0, 1, 1, 0, 0],\n",
              "       [1, 0, 1, 0, 1],\n",
              "       [1, 0, 0, 0, 0],\n",
              "       [0, 0, 0, 0, 0],\n",
              "       [1, 1, 1, 0, 1],\n",
              "       [1, 0, 1, 0, 1],\n",
              "       [1, 1, 1, 1, 1],\n",
              "       [0, 0, 1, 1, 1]])"
            ]
          },
          "metadata": {},
          "execution_count": 5
        }
      ]
    }
  ],
  "metadata": {
    "colab": {
      "name": "2.1.3.Arr_Or_Pr#1_Logical_set.ipynb",
      "provenance": []
    },
    "language_info": {
      "name": "python"
    },
    "kernelspec": {
      "name": "python3",
      "display_name": "Python 3"
    }
  },
  "nbformat": 4,
  "nbformat_minor": 0
}
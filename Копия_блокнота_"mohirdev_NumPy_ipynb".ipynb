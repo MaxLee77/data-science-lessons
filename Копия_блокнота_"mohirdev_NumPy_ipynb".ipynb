{
  "cells": [
    {
      "cell_type": "markdown",
      "metadata": {
        "id": "view-in-github",
        "colab_type": "text"
      },
      "source": [
        "<a href=\"https://colab.research.google.com/github/MaxLee77/data-science-lessons/blob/main/%D0%9A%D0%BE%D0%BF%D0%B8%D1%8F_%D0%B1%D0%BB%D0%BE%D0%BA%D0%BD%D0%BE%D1%82%D0%B0_%22mohirdev_NumPy_ipynb%22.ipynb\" target=\"_parent\"><img src=\"https://colab.research.google.com/assets/colab-badge.svg\" alt=\"Open In Colab\"/></a>"
      ]
    },
    {
      "cell_type": "markdown",
      "id": "bf79c78b",
      "metadata": {
        "id": "bf79c78b"
      },
      "source": [
        "# NumPy kutubxonasiga doir bilimlaringizni mustaxkamlash uchun mashqlar\n",
        "\n",
        "Hurmatli o'quvchi, bilimingizni yanada mustaxkamlashingiz va chuqurroq ko'nikmalarga ega bo'lishingiz uchun sizga topshiriqlar tayyorladik. Sizga yengillik yaratish maqsadida topshiriqni aynan qanday funksiyalar yordamida amalga oshirishingiz mumkin ekanini\n",
        " `💡Ishora` ko'rinishida yozdik!"
      ]
    },
    {
      "cell_type": "markdown",
      "id": "017db353",
      "metadata": {
        "id": "017db353"
      },
      "source": [
        "#### 1. NumPy kutubxonasini `np` nomi ostida yuklang va numpy kutubxonasini chop eting.\n",
        "\n",
        "versiya va konfiguratsiyani tekshiring.\n"
      ]
    },
    {
      "cell_type": "markdown",
      "source": [
        "`💡Ishora` import … as` and `np.__version__, np.show_config"
      ],
      "metadata": {
        "id": "e28779fe"
      },
      "id": "e28779fe"
    },
    {
      "cell_type": "code",
      "source": [
        "import numpy as np"
      ],
      "metadata": {
        "id": "_pCbn1ieI3u9"
      },
      "id": "_pCbn1ieI3u9",
      "execution_count": null,
      "outputs": []
    },
    {
      "cell_type": "markdown",
      "id": "46950f4f",
      "metadata": {
        "id": "46950f4f"
      },
      "source": [
        "#### 2. Raqamli qiymatlar ro'yxatini bir o'lchovli NumPy massiviga aylantiring!"
      ]
    },
    {
      "cell_type": "markdown",
      "source": [
        "`💡Ishora` numpy.array"
      ],
      "metadata": {
        "id": "9b0e875f"
      },
      "id": "9b0e875f"
    },
    {
      "cell_type": "code",
      "source": [
        "arr = np.arange(0, 20, 2)\n",
        "arr"
      ],
      "metadata": {
        "id": "dgnzjeT3JCi4",
        "outputId": "ae1d6498-1f03-4c89-fcda-3c84520537b6",
        "colab": {
          "base_uri": "https://localhost:8080/"
        }
      },
      "id": "dgnzjeT3JCi4",
      "execution_count": null,
      "outputs": [
        {
          "output_type": "execute_result",
          "data": {
            "text/plain": [
              "array([ 0,  2,  4,  6,  8, 10, 12, 14, 16, 18])"
            ]
          },
          "metadata": {},
          "execution_count": 34
        }
      ]
    },
    {
      "cell_type": "markdown",
      "id": "e3c20b3d",
      "metadata": {
        "id": "e3c20b3d"
      },
      "source": [
        "#### 3. Qiymatlari noldan iborat bo'lgan to'qqiz o'lchovli massiv yarating.\n",
        "\n"
      ]
    },
    {
      "cell_type": "code",
      "source": [
        "arr9d = np.zeros((2, 2, 2, 2, 2, 2, 2, 2, 2,))\n",
        "arr9d"
      ],
      "metadata": {
        "id": "KidhsWcojkcB",
        "outputId": "c047c104-9330-4bc0-97a6-2b147f49de96",
        "colab": {
          "base_uri": "https://localhost:8080/"
        }
      },
      "id": "KidhsWcojkcB",
      "execution_count": null,
      "outputs": [
        {
          "output_type": "execute_result",
          "data": {
            "text/plain": [
              "array([[[[[[[[[0., 0.],\n",
              "              [0., 0.]],\n",
              "\n",
              "             [[0., 0.],\n",
              "              [0., 0.]]],\n",
              "\n",
              "\n",
              "            [[[0., 0.],\n",
              "              [0., 0.]],\n",
              "\n",
              "             [[0., 0.],\n",
              "              [0., 0.]]]],\n",
              "\n",
              "\n",
              "\n",
              "           [[[[0., 0.],\n",
              "              [0., 0.]],\n",
              "\n",
              "             [[0., 0.],\n",
              "              [0., 0.]]],\n",
              "\n",
              "\n",
              "            [[[0., 0.],\n",
              "              [0., 0.]],\n",
              "\n",
              "             [[0., 0.],\n",
              "              [0., 0.]]]]],\n",
              "\n",
              "\n",
              "\n",
              "\n",
              "          [[[[[0., 0.],\n",
              "              [0., 0.]],\n",
              "\n",
              "             [[0., 0.],\n",
              "              [0., 0.]]],\n",
              "\n",
              "\n",
              "            [[[0., 0.],\n",
              "              [0., 0.]],\n",
              "\n",
              "             [[0., 0.],\n",
              "              [0., 0.]]]],\n",
              "\n",
              "\n",
              "\n",
              "           [[[[0., 0.],\n",
              "              [0., 0.]],\n",
              "\n",
              "             [[0., 0.],\n",
              "              [0., 0.]]],\n",
              "\n",
              "\n",
              "            [[[0., 0.],\n",
              "              [0., 0.]],\n",
              "\n",
              "             [[0., 0.],\n",
              "              [0., 0.]]]]]],\n",
              "\n",
              "\n",
              "\n",
              "\n",
              "\n",
              "         [[[[[[0., 0.],\n",
              "              [0., 0.]],\n",
              "\n",
              "             [[0., 0.],\n",
              "              [0., 0.]]],\n",
              "\n",
              "\n",
              "            [[[0., 0.],\n",
              "              [0., 0.]],\n",
              "\n",
              "             [[0., 0.],\n",
              "              [0., 0.]]]],\n",
              "\n",
              "\n",
              "\n",
              "           [[[[0., 0.],\n",
              "              [0., 0.]],\n",
              "\n",
              "             [[0., 0.],\n",
              "              [0., 0.]]],\n",
              "\n",
              "\n",
              "            [[[0., 0.],\n",
              "              [0., 0.]],\n",
              "\n",
              "             [[0., 0.],\n",
              "              [0., 0.]]]]],\n",
              "\n",
              "\n",
              "\n",
              "\n",
              "          [[[[[0., 0.],\n",
              "              [0., 0.]],\n",
              "\n",
              "             [[0., 0.],\n",
              "              [0., 0.]]],\n",
              "\n",
              "\n",
              "            [[[0., 0.],\n",
              "              [0., 0.]],\n",
              "\n",
              "             [[0., 0.],\n",
              "              [0., 0.]]]],\n",
              "\n",
              "\n",
              "\n",
              "           [[[[0., 0.],\n",
              "              [0., 0.]],\n",
              "\n",
              "             [[0., 0.],\n",
              "              [0., 0.]]],\n",
              "\n",
              "\n",
              "            [[[0., 0.],\n",
              "              [0., 0.]],\n",
              "\n",
              "             [[0., 0.],\n",
              "              [0., 0.]]]]]]],\n",
              "\n",
              "\n",
              "\n",
              "\n",
              "\n",
              "\n",
              "        [[[[[[[0., 0.],\n",
              "              [0., 0.]],\n",
              "\n",
              "             [[0., 0.],\n",
              "              [0., 0.]]],\n",
              "\n",
              "\n",
              "            [[[0., 0.],\n",
              "              [0., 0.]],\n",
              "\n",
              "             [[0., 0.],\n",
              "              [0., 0.]]]],\n",
              "\n",
              "\n",
              "\n",
              "           [[[[0., 0.],\n",
              "              [0., 0.]],\n",
              "\n",
              "             [[0., 0.],\n",
              "              [0., 0.]]],\n",
              "\n",
              "\n",
              "            [[[0., 0.],\n",
              "              [0., 0.]],\n",
              "\n",
              "             [[0., 0.],\n",
              "              [0., 0.]]]]],\n",
              "\n",
              "\n",
              "\n",
              "\n",
              "          [[[[[0., 0.],\n",
              "              [0., 0.]],\n",
              "\n",
              "             [[0., 0.],\n",
              "              [0., 0.]]],\n",
              "\n",
              "\n",
              "            [[[0., 0.],\n",
              "              [0., 0.]],\n",
              "\n",
              "             [[0., 0.],\n",
              "              [0., 0.]]]],\n",
              "\n",
              "\n",
              "\n",
              "           [[[[0., 0.],\n",
              "              [0., 0.]],\n",
              "\n",
              "             [[0., 0.],\n",
              "              [0., 0.]]],\n",
              "\n",
              "\n",
              "            [[[0., 0.],\n",
              "              [0., 0.]],\n",
              "\n",
              "             [[0., 0.],\n",
              "              [0., 0.]]]]]],\n",
              "\n",
              "\n",
              "\n",
              "\n",
              "\n",
              "         [[[[[[0., 0.],\n",
              "              [0., 0.]],\n",
              "\n",
              "             [[0., 0.],\n",
              "              [0., 0.]]],\n",
              "\n",
              "\n",
              "            [[[0., 0.],\n",
              "              [0., 0.]],\n",
              "\n",
              "             [[0., 0.],\n",
              "              [0., 0.]]]],\n",
              "\n",
              "\n",
              "\n",
              "           [[[[0., 0.],\n",
              "              [0., 0.]],\n",
              "\n",
              "             [[0., 0.],\n",
              "              [0., 0.]]],\n",
              "\n",
              "\n",
              "            [[[0., 0.],\n",
              "              [0., 0.]],\n",
              "\n",
              "             [[0., 0.],\n",
              "              [0., 0.]]]]],\n",
              "\n",
              "\n",
              "\n",
              "\n",
              "          [[[[[0., 0.],\n",
              "              [0., 0.]],\n",
              "\n",
              "             [[0., 0.],\n",
              "              [0., 0.]]],\n",
              "\n",
              "\n",
              "            [[[0., 0.],\n",
              "              [0., 0.]],\n",
              "\n",
              "             [[0., 0.],\n",
              "              [0., 0.]]]],\n",
              "\n",
              "\n",
              "\n",
              "           [[[[0., 0.],\n",
              "              [0., 0.]],\n",
              "\n",
              "             [[0., 0.],\n",
              "              [0., 0.]]],\n",
              "\n",
              "\n",
              "            [[[0., 0.],\n",
              "              [0., 0.]],\n",
              "\n",
              "             [[0., 0.],\n",
              "              [0., 0.]]]]]]]],\n",
              "\n",
              "\n",
              "\n",
              "\n",
              "\n",
              "\n",
              "\n",
              "       [[[[[[[[0., 0.],\n",
              "              [0., 0.]],\n",
              "\n",
              "             [[0., 0.],\n",
              "              [0., 0.]]],\n",
              "\n",
              "\n",
              "            [[[0., 0.],\n",
              "              [0., 0.]],\n",
              "\n",
              "             [[0., 0.],\n",
              "              [0., 0.]]]],\n",
              "\n",
              "\n",
              "\n",
              "           [[[[0., 0.],\n",
              "              [0., 0.]],\n",
              "\n",
              "             [[0., 0.],\n",
              "              [0., 0.]]],\n",
              "\n",
              "\n",
              "            [[[0., 0.],\n",
              "              [0., 0.]],\n",
              "\n",
              "             [[0., 0.],\n",
              "              [0., 0.]]]]],\n",
              "\n",
              "\n",
              "\n",
              "\n",
              "          [[[[[0., 0.],\n",
              "              [0., 0.]],\n",
              "\n",
              "             [[0., 0.],\n",
              "              [0., 0.]]],\n",
              "\n",
              "\n",
              "            [[[0., 0.],\n",
              "              [0., 0.]],\n",
              "\n",
              "             [[0., 0.],\n",
              "              [0., 0.]]]],\n",
              "\n",
              "\n",
              "\n",
              "           [[[[0., 0.],\n",
              "              [0., 0.]],\n",
              "\n",
              "             [[0., 0.],\n",
              "              [0., 0.]]],\n",
              "\n",
              "\n",
              "            [[[0., 0.],\n",
              "              [0., 0.]],\n",
              "\n",
              "             [[0., 0.],\n",
              "              [0., 0.]]]]]],\n",
              "\n",
              "\n",
              "\n",
              "\n",
              "\n",
              "         [[[[[[0., 0.],\n",
              "              [0., 0.]],\n",
              "\n",
              "             [[0., 0.],\n",
              "              [0., 0.]]],\n",
              "\n",
              "\n",
              "            [[[0., 0.],\n",
              "              [0., 0.]],\n",
              "\n",
              "             [[0., 0.],\n",
              "              [0., 0.]]]],\n",
              "\n",
              "\n",
              "\n",
              "           [[[[0., 0.],\n",
              "              [0., 0.]],\n",
              "\n",
              "             [[0., 0.],\n",
              "              [0., 0.]]],\n",
              "\n",
              "\n",
              "            [[[0., 0.],\n",
              "              [0., 0.]],\n",
              "\n",
              "             [[0., 0.],\n",
              "              [0., 0.]]]]],\n",
              "\n",
              "\n",
              "\n",
              "\n",
              "          [[[[[0., 0.],\n",
              "              [0., 0.]],\n",
              "\n",
              "             [[0., 0.],\n",
              "              [0., 0.]]],\n",
              "\n",
              "\n",
              "            [[[0., 0.],\n",
              "              [0., 0.]],\n",
              "\n",
              "             [[0., 0.],\n",
              "              [0., 0.]]]],\n",
              "\n",
              "\n",
              "\n",
              "           [[[[0., 0.],\n",
              "              [0., 0.]],\n",
              "\n",
              "             [[0., 0.],\n",
              "              [0., 0.]]],\n",
              "\n",
              "\n",
              "            [[[0., 0.],\n",
              "              [0., 0.]],\n",
              "\n",
              "             [[0., 0.],\n",
              "              [0., 0.]]]]]]],\n",
              "\n",
              "\n",
              "\n",
              "\n",
              "\n",
              "\n",
              "        [[[[[[[0., 0.],\n",
              "              [0., 0.]],\n",
              "\n",
              "             [[0., 0.],\n",
              "              [0., 0.]]],\n",
              "\n",
              "\n",
              "            [[[0., 0.],\n",
              "              [0., 0.]],\n",
              "\n",
              "             [[0., 0.],\n",
              "              [0., 0.]]]],\n",
              "\n",
              "\n",
              "\n",
              "           [[[[0., 0.],\n",
              "              [0., 0.]],\n",
              "\n",
              "             [[0., 0.],\n",
              "              [0., 0.]]],\n",
              "\n",
              "\n",
              "            [[[0., 0.],\n",
              "              [0., 0.]],\n",
              "\n",
              "             [[0., 0.],\n",
              "              [0., 0.]]]]],\n",
              "\n",
              "\n",
              "\n",
              "\n",
              "          [[[[[0., 0.],\n",
              "              [0., 0.]],\n",
              "\n",
              "             [[0., 0.],\n",
              "              [0., 0.]]],\n",
              "\n",
              "\n",
              "            [[[0., 0.],\n",
              "              [0., 0.]],\n",
              "\n",
              "             [[0., 0.],\n",
              "              [0., 0.]]]],\n",
              "\n",
              "\n",
              "\n",
              "           [[[[0., 0.],\n",
              "              [0., 0.]],\n",
              "\n",
              "             [[0., 0.],\n",
              "              [0., 0.]]],\n",
              "\n",
              "\n",
              "            [[[0., 0.],\n",
              "              [0., 0.]],\n",
              "\n",
              "             [[0., 0.],\n",
              "              [0., 0.]]]]]],\n",
              "\n",
              "\n",
              "\n",
              "\n",
              "\n",
              "         [[[[[[0., 0.],\n",
              "              [0., 0.]],\n",
              "\n",
              "             [[0., 0.],\n",
              "              [0., 0.]]],\n",
              "\n",
              "\n",
              "            [[[0., 0.],\n",
              "              [0., 0.]],\n",
              "\n",
              "             [[0., 0.],\n",
              "              [0., 0.]]]],\n",
              "\n",
              "\n",
              "\n",
              "           [[[[0., 0.],\n",
              "              [0., 0.]],\n",
              "\n",
              "             [[0., 0.],\n",
              "              [0., 0.]]],\n",
              "\n",
              "\n",
              "            [[[0., 0.],\n",
              "              [0., 0.]],\n",
              "\n",
              "             [[0., 0.],\n",
              "              [0., 0.]]]]],\n",
              "\n",
              "\n",
              "\n",
              "\n",
              "          [[[[[0., 0.],\n",
              "              [0., 0.]],\n",
              "\n",
              "             [[0., 0.],\n",
              "              [0., 0.]]],\n",
              "\n",
              "\n",
              "            [[[0., 0.],\n",
              "              [0., 0.]],\n",
              "\n",
              "             [[0., 0.],\n",
              "              [0., 0.]]]],\n",
              "\n",
              "\n",
              "\n",
              "           [[[[0., 0.],\n",
              "              [0., 0.]],\n",
              "\n",
              "             [[0., 0.],\n",
              "              [0., 0.]]],\n",
              "\n",
              "\n",
              "            [[[0., 0.],\n",
              "              [0., 0.]],\n",
              "\n",
              "             [[0., 0.],\n",
              "              [0., 0.]]]]]]]]])"
            ]
          },
          "metadata": {},
          "execution_count": 35
        }
      ]
    },
    {
      "cell_type": "markdown",
      "source": [
        "`💡Ishora` np.zeros"
      ],
      "metadata": {
        "id": "96d0b63e"
      },
      "id": "96d0b63e"
    },
    {
      "cell_type": "markdown",
      "id": "b15a879f",
      "metadata": {
        "id": "b15a879f"
      },
      "source": [
        "#### 4. Massiv yarating va uning xotira hajmini toping.\n",
        "\n"
      ]
    },
    {
      "cell_type": "markdown",
      "source": [
        "`💡Ishora` size, itemsize"
      ],
      "metadata": {
        "id": "32f9025c"
      },
      "id": "32f9025c"
    },
    {
      "cell_type": "code",
      "source": [
        "arr4 = np.arange(5, 55, 5)\n",
        "arr4.dtype"
      ],
      "metadata": {
        "id": "MZxcJM_oJOTs",
        "outputId": "f81aa42c-b5c0-41e8-fce9-792de2b21aa7",
        "colab": {
          "base_uri": "https://localhost:8080/"
        }
      },
      "id": "MZxcJM_oJOTs",
      "execution_count": null,
      "outputs": [
        {
          "output_type": "execute_result",
          "data": {
            "text/plain": [
              "dtype('int64')"
            ]
          },
          "metadata": {},
          "execution_count": 36
        }
      ]
    },
    {
      "cell_type": "markdown",
      "id": "0a708990",
      "metadata": {
        "id": "0a708990"
      },
      "source": [
        "#### 5. NumPy kutubxonasidagi add funksiyasi hujjatlarini buyruq satridan qanday olishi mumkin?\n"
      ]
    },
    {
      "cell_type": "markdown",
      "source": [
        "`💡Ishora` np.info"
      ],
      "metadata": {
        "id": "d254eea5"
      },
      "id": "d254eea5"
    },
    {
      "cell_type": "code",
      "source": [
        "np.info(np.add)"
      ],
      "metadata": {
        "id": "m7nA_vYsJVUi",
        "outputId": "5f62e613-98c1-4d22-d2ba-b2bb0d4e96b2",
        "colab": {
          "base_uri": "https://localhost:8080/"
        }
      },
      "id": "m7nA_vYsJVUi",
      "execution_count": null,
      "outputs": [
        {
          "output_type": "stream",
          "name": "stdout",
          "text": [
            "add(x1, x2, /, out=None, *, where=True, casting='same_kind', order='K', dtype=None, subok=True[, signature])\n",
            "\n",
            "Add arguments element-wise.\n",
            "\n",
            "Parameters\n",
            "----------\n",
            "x1, x2 : array_like\n",
            "    The arrays to be added.\n",
            "    If ``x1.shape != x2.shape``, they must be broadcastable to a common\n",
            "    shape (which becomes the shape of the output).\n",
            "out : ndarray, None, or tuple of ndarray and None, optional\n",
            "    A location into which the result is stored. If provided, it must have\n",
            "    a shape that the inputs broadcast to. If not provided or None,\n",
            "    a freshly-allocated array is returned. A tuple (possible only as a\n",
            "    keyword argument) must have length equal to the number of outputs.\n",
            "where : array_like, optional\n",
            "    This condition is broadcast over the input. At locations where the\n",
            "    condition is True, the `out` array will be set to the ufunc result.\n",
            "    Elsewhere, the `out` array will retain its original value.\n",
            "    Note that if an uninitialized `out` array is created via the default\n",
            "    ``out=None``, locations within it where the condition is False will\n",
            "    remain uninitialized.\n",
            "**kwargs\n",
            "    For other keyword-only arguments, see the\n",
            "    :ref:`ufunc docs <ufuncs.kwargs>`.\n",
            "\n",
            "Returns\n",
            "-------\n",
            "add : ndarray or scalar\n",
            "    The sum of `x1` and `x2`, element-wise.\n",
            "    This is a scalar if both `x1` and `x2` are scalars.\n",
            "\n",
            "Notes\n",
            "-----\n",
            "Equivalent to `x1` + `x2` in terms of array broadcasting.\n",
            "\n",
            "Examples\n",
            "--------\n",
            ">>> np.add(1.0, 4.0)\n",
            "5.0\n",
            ">>> x1 = np.arange(9.0).reshape((3, 3))\n",
            ">>> x2 = np.arange(3.0)\n",
            ">>> np.add(x1, x2)\n",
            "array([[  0.,   2.,   4.],\n",
            "       [  3.,   5.,   7.],\n",
            "       [  6.,   8.,  10.]])\n",
            "\n",
            "The ``+`` operator can be used as a shorthand for ``np.add`` on ndarrays.\n",
            "\n",
            ">>> x1 = np.arange(9.0).reshape((3, 3))\n",
            ">>> x2 = np.arange(3.0)\n",
            ">>> x1 + x2\n",
            "array([[ 0.,  2.,  4.],\n",
            "       [ 3.,  5.,  7.],\n",
            "       [ 6.,  8., 10.]])\n"
          ]
        }
      ]
    },
    {
      "cell_type": "markdown",
      "id": "0b16cd77",
      "metadata": {
        "id": "0b16cd77"
      },
      "source": [
        "#### 6. Shunday vekor yaratingki u o'n ikki o'lchamda va qiymatlari noldan iborat bo'lsin, lekin vektorning oltinchi qiymati 1 ga teng bo'lsin.\n",
        "\n"
      ]
    },
    {
      "cell_type": "markdown",
      "source": [
        "`💡Ishora` array[12]"
      ],
      "metadata": {
        "id": "05223560"
      },
      "id": "05223560"
    },
    {
      "cell_type": "code",
      "source": [
        "arr6 = np.zeros(12)\n",
        "arr6[5] = 1\n",
        "arr6"
      ],
      "metadata": {
        "id": "UJfYDNQoJc7M",
        "outputId": "d3099ec0-1efb-47df-d15c-c01c4772e456",
        "colab": {
          "base_uri": "https://localhost:8080/"
        }
      },
      "id": "UJfYDNQoJc7M",
      "execution_count": null,
      "outputs": [
        {
          "output_type": "execute_result",
          "data": {
            "text/plain": [
              "array([0., 0., 0., 0., 0., 1., 0., 0., 0., 0., 0., 0.])"
            ]
          },
          "metadata": {},
          "execution_count": 38
        }
      ]
    },
    {
      "cell_type": "markdown",
      "id": "782d4c77",
      "metadata": {
        "id": "782d4c77"
      },
      "source": [
        "#### 7. Qiymatlari 20 dan 59 gacha bo'lgan vektor yarating.\n",
        "\n"
      ]
    },
    {
      "cell_type": "markdown",
      "source": [
        "`💡Ishora` arange"
      ],
      "metadata": {
        "id": "7250d114"
      },
      "id": "7250d114"
    },
    {
      "cell_type": "code",
      "source": [
        "arr7 = np.arange(20, 60)\n",
        "arr7"
      ],
      "metadata": {
        "id": "fSaWkGakJhwz",
        "outputId": "a3dbd7f1-2832-45d8-9457-c2413eef5189",
        "colab": {
          "base_uri": "https://localhost:8080/"
        }
      },
      "id": "fSaWkGakJhwz",
      "execution_count": null,
      "outputs": [
        {
          "output_type": "execute_result",
          "data": {
            "text/plain": [
              "array([20, 21, 22, 23, 24, 25, 26, 27, 28, 29, 30, 31, 32, 33, 34, 35, 36,\n",
              "       37, 38, 39, 40, 41, 42, 43, 44, 45, 46, 47, 48, 49, 50, 51, 52, 53,\n",
              "       54, 55, 56, 57, 58, 59])"
            ]
          },
          "metadata": {},
          "execution_count": 39
        }
      ]
    },
    {
      "cell_type": "markdown",
      "id": "48d48f01",
      "metadata": {
        "id": "48d48f01"
      },
      "source": [
        "#### 8. Vektor yarating va uni teskari o'zgartiring\n",
        "(birinchi element oxirgisi bo'lsin)\n",
        "\n"
      ]
    },
    {
      "cell_type": "markdown",
      "source": [
        "`💡Ishora` array[::-1]"
      ],
      "metadata": {
        "id": "fb702ae0"
      },
      "id": "fb702ae0"
    },
    {
      "cell_type": "code",
      "source": [
        "arr8 = np.arange(0, 18, 2)\n",
        "arr8[::-1]"
      ],
      "metadata": {
        "id": "GCP6vp_WJrON",
        "outputId": "67fc851f-4b3c-4b9f-fd6c-91fa25722e68",
        "colab": {
          "base_uri": "https://localhost:8080/"
        }
      },
      "id": "GCP6vp_WJrON",
      "execution_count": null,
      "outputs": [
        {
          "output_type": "execute_result",
          "data": {
            "text/plain": [
              "array([16, 14, 12, 10,  8,  6,  4,  2,  0])"
            ]
          },
          "metadata": {},
          "execution_count": 40
        }
      ]
    },
    {
      "cell_type": "markdown",
      "id": "4fa39382",
      "metadata": {
        "id": "4fa39382"
      },
      "source": [
        "#### 9. 12 dan 20 gacha bo'lgan qiymatlarga ega 3x3 matritsa yarating.\n"
      ]
    },
    {
      "cell_type": "markdown",
      "source": [
        "`💡Ishora` reshape"
      ],
      "metadata": {
        "id": "97e6be92"
      },
      "id": "97e6be92"
    },
    {
      "cell_type": "code",
      "source": [
        "arr9 = np.arange(12, 21)\n",
        "arr9 = arr9.reshape(3, 3)\n",
        "arr9"
      ],
      "metadata": {
        "id": "Ve7gEGjuJxxw",
        "outputId": "c61a63a8-6dc4-4c45-e2ab-e67807c5d635",
        "colab": {
          "base_uri": "https://localhost:8080/"
        }
      },
      "id": "Ve7gEGjuJxxw",
      "execution_count": null,
      "outputs": [
        {
          "output_type": "execute_result",
          "data": {
            "text/plain": [
              "array([[12, 13, 14],\n",
              "       [15, 16, 17],\n",
              "       [18, 19, 20]])"
            ]
          },
          "metadata": {},
          "execution_count": 41
        }
      ]
    },
    {
      "cell_type": "markdown",
      "id": "da64551a",
      "metadata": {
        "id": "da64551a"
      },
      "source": [
        "#### 10. Quyidagi matritsadan foydalanib nolga teng bo'lmagan elementlarning indekslarini toping.\n",
        "[3, 7, 0, 0, 9, 0]\n",
        "\n",
        "\n",
        "\n"
      ]
    },
    {
      "cell_type": "markdown",
      "source": [
        "`💡Ishora` np.nonzero"
      ],
      "metadata": {
        "id": "322b2b68"
      },
      "id": "322b2b68"
    },
    {
      "cell_type": "code",
      "source": [
        "arr10 = np.array([3, 7, 0, 0, 9, 0])\n",
        "indexs = np.nonzero(arr10)\n",
        "print(arr10, indexs)"
      ],
      "metadata": {
        "id": "fNIuSyBaJ4OP",
        "outputId": "c3daa049-80a6-4722-b280-2af96019cc4c",
        "colab": {
          "base_uri": "https://localhost:8080/"
        }
      },
      "id": "fNIuSyBaJ4OP",
      "execution_count": null,
      "outputs": [
        {
          "output_type": "stream",
          "name": "stdout",
          "text": [
            "[3 7 0 0 9 0] (array([0, 1, 4]),)\n"
          ]
        }
      ]
    },
    {
      "cell_type": "markdown",
      "id": "f89d9c9e",
      "metadata": {
        "id": "f89d9c9e"
      },
      "source": [
        "#### 11. Tasodifiy qiymatlar bilan 2x2x2 o'lchovidagi massiv yarating.\n"
      ]
    },
    {
      "cell_type": "markdown",
      "source": [
        "`💡Ishora` np.random.random"
      ],
      "metadata": {
        "id": "5717e1c1"
      },
      "id": "5717e1c1"
    },
    {
      "cell_type": "code",
      "source": [
        "arr11 = np.random.randn(2, 2, 2)\n",
        "arr11"
      ],
      "metadata": {
        "id": "bHloeqHOKuiX",
        "outputId": "4f4b7f58-8bb2-4592-efe9-d675c660d062",
        "colab": {
          "base_uri": "https://localhost:8080/"
        }
      },
      "id": "bHloeqHOKuiX",
      "execution_count": null,
      "outputs": [
        {
          "output_type": "execute_result",
          "data": {
            "text/plain": [
              "array([[[-0.16050238,  1.88640804],\n",
              "        [-0.0036564 ,  1.28161618]],\n",
              "\n",
              "       [[ 0.67795972,  0.6466334 ],\n",
              "        [-1.70758088,  0.30377824]]])"
            ]
          },
          "metadata": {},
          "execution_count": 43
        }
      ]
    },
    {
      "cell_type": "markdown",
      "id": "13c5928c",
      "metadata": {
        "id": "13c5928c"
      },
      "source": [
        "#### 12. Tasodifiy sonlardan tashkil topgan 9X9 o'lchamidagi massiv yarating. So'ng uning eng katta va eng kichik qiymatlarini toping\n"
      ]
    },
    {
      "cell_type": "markdown",
      "source": [
        "`💡Ishora` min, max"
      ],
      "metadata": {
        "id": "0ede4d26"
      },
      "id": "0ede4d26"
    },
    {
      "cell_type": "code",
      "source": [
        "arr12 = np.random.randn(9,9)\n",
        "arr12_max = np.max(arr12)\n",
        "arr12_min = np.min(arr12)\n",
        "print(arr12_max, arr12_min)"
      ],
      "metadata": {
        "id": "OJiVa5K9LJyb",
        "outputId": "58612c5d-d736-4254-c7f8-a235605469a0",
        "colab": {
          "base_uri": "https://localhost:8080/"
        }
      },
      "id": "OJiVa5K9LJyb",
      "execution_count": null,
      "outputs": [
        {
          "output_type": "stream",
          "name": "stdout",
          "text": [
            "2.0485806643425786 -2.3459356153440787\n"
          ]
        }
      ]
    },
    {
      "cell_type": "markdown",
      "id": "3fa2e461",
      "metadata": {
        "id": "3fa2e461"
      },
      "source": [
        "#### 13. Quyidagi misol qanday natija beradi?\n",
        "\n",
        "\n",
        "```python\n",
        "0 * np.nan\n",
        "np.nan == np.nan\n",
        "np.inf > np.nan\n",
        "np.nan - np.nan\n",
        "np.nan in set([np.nan])\n",
        "0.7 == 7 * 0.1\n",
        "```\n"
      ]
    },
    {
      "cell_type": "markdown",
      "source": [
        "`💡Ishora` NaN = not a number, inf = infinity"
      ],
      "metadata": {
        "id": "c0048e59"
      },
      "id": "c0048e59"
    },
    {
      "cell_type": "code",
      "source": [
        "0 * np.nan\n",
        "np.nan == np.nan\n",
        "np.inf > np.nan\n",
        "np.nan - np.nan\n",
        "np.nan in set([np.nan])\n",
        "0.7 == 7 * 0.1"
      ],
      "metadata": {
        "id": "Thbqd_RCLf_e",
        "outputId": "5d23e0be-9581-4088-e178-76ebec1572a3",
        "colab": {
          "base_uri": "https://localhost:8080/"
        }
      },
      "id": "Thbqd_RCLf_e",
      "execution_count": null,
      "outputs": [
        {
          "output_type": "execute_result",
          "data": {
            "text/plain": [
              "False"
            ]
          },
          "metadata": {},
          "execution_count": 45
        }
      ]
    },
    {
      "cell_type": "markdown",
      "id": "73f7a549",
      "metadata": {
        "id": "73f7a549"
      },
      "source": [
        "#### 14. O'lchamlari 6x3 va 3x4 bo'lgan martitsa yarating, so'ng ularning  ko'paytmasini hisoblang.\n",
        "\n"
      ]
    },
    {
      "cell_type": "markdown",
      "source": [
        "`💡Ishora` np.dot` or `np.ones"
      ],
      "metadata": {
        "id": "351ff928"
      },
      "id": "351ff928"
    },
    {
      "cell_type": "code",
      "source": [
        "arr14_1 = np.random.rand(6, 3)\n",
        "arr14_2 = np.random.rand(3, 4)\n",
        "arr14 = np.dot(arr14_1, arr14_2)\n",
        "arr14"
      ],
      "metadata": {
        "id": "e_5QUFcPLtVX",
        "outputId": "dea4f879-2e4e-474d-d69d-407681e4c711",
        "colab": {
          "base_uri": "https://localhost:8080/"
        }
      },
      "id": "e_5QUFcPLtVX",
      "execution_count": null,
      "outputs": [
        {
          "output_type": "execute_result",
          "data": {
            "text/plain": [
              "array([[1.11078424, 1.14280698, 1.5819662 , 0.75468489],\n",
              "       [0.79104865, 0.62513238, 0.59248157, 0.441784  ],\n",
              "       [0.78211588, 0.86412573, 1.18401322, 0.55746308],\n",
              "       [0.71521553, 0.91391804, 1.30599093, 0.56723942],\n",
              "       [1.22273283, 1.31791413, 1.44207501, 0.8417191 ],\n",
              "       [0.55449056, 0.59447948, 0.74845779, 0.3843799 ]])"
            ]
          },
          "metadata": {},
          "execution_count": 46
        }
      ]
    },
    {
      "cell_type": "markdown",
      "id": "6d0c506f",
      "metadata": {
        "id": "6d0c506f"
      },
      "source": [
        "#### 15. Quyidagi misol qanday natija beradi?\n",
        "\n",
        "```python\n",
        "print(sum(range(5),-1))\n",
        "from numpy import *\n",
        "print(sum(range(5),-1))\n",
        "```"
      ]
    },
    {
      "cell_type": "code",
      "execution_count": null,
      "id": "c1cc1143",
      "metadata": {
        "id": "c1cc1143",
        "outputId": "2074626c-2ad7-452b-c6b1-18e2d5f9ec56",
        "colab": {
          "base_uri": "https://localhost:8080/"
        }
      },
      "outputs": [
        {
          "output_type": "stream",
          "name": "stdout",
          "text": [
            "10\n",
            "10\n"
          ]
        }
      ],
      "source": [
        "print(sum(range(5),-1))\n",
        "from numpy import *\n",
        "print(sum(range(5),-1))"
      ]
    },
    {
      "cell_type": "markdown",
      "id": "d6ad1a9f",
      "metadata": {
        "id": "d6ad1a9f"
      },
      "source": [
        "#### 16. NumPy kutubxonasi yordamida ikkita massivni solishtiring va ular usida quyidagi amallarni bajaring.\n",
        "\n",
        "```python\n",
        "Array a: [1 2]\n",
        "Array b: [4 5]\n",
        "a > b\n",
        "[False False]\n",
        "a >= b\n",
        "[False False]\n",
        "a < b\n",
        "[ True True]\n",
        "a <= b\n",
        "[ True True]\n",
        "```"
      ]
    },
    {
      "cell_type": "code",
      "execution_count": null,
      "id": "7ba3c441",
      "metadata": {
        "id": "7ba3c441",
        "outputId": "6d015f44-e5e9-4a34-b604-2eec6a1bd1f1",
        "colab": {
          "base_uri": "https://localhost:8080/"
        }
      },
      "outputs": [
        {
          "output_type": "stream",
          "name": "stdout",
          "text": [
            "a16 > b16:\n",
            " [[False False False False]\n",
            " [False  True False False]\n",
            " [ True  True False  True]] \n",
            "\n",
            "a16 >= b16:\n",
            " [[False False  True False]\n",
            " [False  True False  True]\n",
            " [ True  True False  True]] \n",
            "\n",
            "a16 < b16:\n",
            " [[ True  True False  True]\n",
            " [ True False  True False]\n",
            " [False False  True False]] \n",
            "\n",
            "a16 <= b16:\n",
            " [[ True  True  True  True]\n",
            " [ True False  True  True]\n",
            " [False False  True False]] \n",
            "\n"
          ]
        }
      ],
      "source": [
        "a16 = np.random.randint(0, 10, (3, 4))\n",
        "b16 = np.random.randint(0, 10, (3, 4))\n",
        "\n",
        "print(\"a16 > b16:\\n\", a16 > b16, \"\\n\")\n",
        "print(\"a16 >= b16:\\n\", a16 >= b16, \"\\n\")\n",
        "print(\"a16 < b16:\\n\", a16 < b16, \"\\n\")\n",
        "print(\"a16 <= b16:\\n\", a16 <= b16, \"\\n\")\n"
      ]
    },
    {
      "cell_type": "markdown",
      "id": "e3a7ba7f",
      "metadata": {
        "id": "e3a7ba7f"
      },
      "source": [
        "#### 17. Quyidagi misol qanday natija beradi?\n",
        "\n",
        "```python\n",
        "np.array(0) / np.array(0)\n",
        "np.array(0) // np.array(0)\n",
        "np.array([np.nan]).astype(int).astype(float)\n",
        "```"
      ]
    },
    {
      "cell_type": "code",
      "execution_count": null,
      "id": "b874734e",
      "metadata": {
        "id": "b874734e",
        "outputId": "0385ca89-5e76-4e2e-b499-55935e2dbf35",
        "colab": {
          "base_uri": "https://localhost:8080/"
        }
      },
      "outputs": [
        {
          "output_type": "stream",
          "name": "stderr",
          "text": [
            "<ipython-input-49-cd809174da5d>:1: RuntimeWarning: invalid value encountered in divide\n",
            "  np.array(0) / np.array(0)\n",
            "<ipython-input-49-cd809174da5d>:2: RuntimeWarning: divide by zero encountered in floor_divide\n",
            "  np.array(0) // np.array(0)\n",
            "<ipython-input-49-cd809174da5d>:3: RuntimeWarning: invalid value encountered in cast\n",
            "  np.array([np.nan]).astype(int).astype(float)\n"
          ]
        },
        {
          "output_type": "execute_result",
          "data": {
            "text/plain": [
              "array([-9.22337204e+18])"
            ]
          },
          "metadata": {},
          "execution_count": 49
        }
      ],
      "source": [
        "np.array(0) / np.array(0)\n",
        "np.array(0) // np.array(0)\n",
        "np.array([np.nan]).astype(int).astype(float)"
      ]
    },
    {
      "cell_type": "markdown",
      "id": "6d17ab5d",
      "metadata": {
        "id": "6d17ab5d"
      },
      "source": [
        "#### 18. Ikkita massiv yarating va ular orasidagi umumiy qiymatlarni toping\n"
      ]
    },
    {
      "cell_type": "markdown",
      "source": [
        "`💡Ishora` np.intersect1d"
      ],
      "metadata": {
        "id": "4c4e2c5e"
      },
      "id": "4c4e2c5e"
    },
    {
      "cell_type": "code",
      "source": [
        "a18 = np.random.randint(0, 10, (2, 3))\n",
        "b18 = np.random.randint(0, 10, (2, 3))\n",
        "arr18 = np.intersect1d(a18, b18)\n",
        "\n",
        "print(\"a18 \\n\", a18, \"\\n\")\n",
        "print(\"b18 \\n\", b18, \"\\n\")\n",
        "print(\"Generel value/s \\n\", arr18)\n"
      ],
      "metadata": {
        "id": "Dxz5P8WpMeAP",
        "outputId": "1d27d524-8dea-4565-8d57-be24b2ef1f34",
        "colab": {
          "base_uri": "https://localhost:8080/"
        }
      },
      "id": "Dxz5P8WpMeAP",
      "execution_count": null,
      "outputs": [
        {
          "output_type": "stream",
          "name": "stdout",
          "text": [
            "a18 \n",
            " [[1 1 8]\n",
            " [6 9 4]] \n",
            "\n",
            "b18 \n",
            " [[5 0 9]\n",
            " [2 4 7]] \n",
            "\n",
            "Generel value/s \n",
            " [4 9]\n"
          ]
        }
      ]
    },
    {
      "cell_type": "markdown",
      "id": "8837119b",
      "metadata": {
        "id": "8837119b"
      },
      "source": [
        "#### 19. Tasodifiy sonlardan iborat bo'lgan massiv yarating, so'ng ularni quyida berilgan 4 xil usul yordamida musbat sonlarning butun qismini ajratib oling."
      ]
    },
    {
      "cell_type": "markdown",
      "source": [
        "`💡Ishora` %, np.floor, astype, np.trunc"
      ],
      "metadata": {
        "id": "2b05c544"
      },
      "id": "2b05c544"
    },
    {
      "cell_type": "code",
      "source": [
        "arr19 = np.random.uniform(-10, 10, (3, 4))\n",
        "\n",
        "print(\"Random numbers\\n\", arr19, \"\\n\\nIntegrated positive numbers:\")\n",
        "positive_n = arr19[arr19 > 0]\n",
        "\n",
        "#1\n",
        "# print(np.floor(positive_n))\n",
        "\n",
        "#2\n",
        "# a2 = positive_n.astype(int)\n",
        "# print(a2)\n",
        "\n",
        "#3\n",
        "print(np.trunc(positive_n))\n"
      ],
      "metadata": {
        "id": "jc6wN5WWMpS3",
        "outputId": "7f72ec80-052f-43f8-d468-828469099fca",
        "colab": {
          "base_uri": "https://localhost:8080/"
        }
      },
      "id": "jc6wN5WWMpS3",
      "execution_count": null,
      "outputs": [
        {
          "output_type": "stream",
          "name": "stdout",
          "text": [
            "Random numbers\n",
            " [[-5.29182276 -0.22289054  8.43158403  9.64140293]\n",
            " [-7.52955753  7.61807422  1.229463   -9.21685521]\n",
            " [ 3.31154823  3.12462272 -7.69533415  2.32492711]] \n",
            "\n",
            "Integrated positive numbers:\n",
            "[8. 9. 7. 1. 3. 3. 2.]\n"
          ]
        }
      ]
    },
    {
      "cell_type": "markdown",
      "id": "ec788c9f",
      "metadata": {
        "id": "ec788c9f"
      },
      "source": [
        "#### 20. O'lchovlari 3x3 matritsa yarating, ularning qator qiymatlari 0 dan 2 gacha bo'lsin.\n",
        "\n"
      ]
    },
    {
      "cell_type": "markdown",
      "source": [
        "`💡Ishora` np.arange"
      ],
      "metadata": {
        "id": "c3980b2c"
      },
      "id": "c3980b2c"
    },
    {
      "cell_type": "code",
      "source": [
        "mat20 = np.arange(0, 2.25, 0.25)\n",
        "a20 = mat20.reshape(3, 3)\n",
        "a20"
      ],
      "metadata": {
        "id": "ycz3jw4bM0Xk",
        "outputId": "87c3c4d3-15ab-4030-f38c-86b882fc4499",
        "colab": {
          "base_uri": "https://localhost:8080/"
        }
      },
      "id": "ycz3jw4bM0Xk",
      "execution_count": null,
      "outputs": [
        {
          "output_type": "execute_result",
          "data": {
            "text/plain": [
              "array([[0.  , 0.25, 0.5 ],\n",
              "       [0.75, 1.  , 1.25],\n",
              "       [1.5 , 1.75, 2.  ]])"
            ]
          },
          "metadata": {},
          "execution_count": 52
        }
      ]
    },
    {
      "cell_type": "markdown",
      "id": "391791e0",
      "metadata": {
        "id": "391791e0"
      },
      "source": [
        "#### 21. O'chamlari 10 bo'lgan tasodifiy vektor yarating va uni o'sish tartibida chiqaruvchi dastur tuzing.\n",
        "\n"
      ]
    },
    {
      "cell_type": "markdown",
      "source": [
        "`💡Ishora` sort"
      ],
      "metadata": {
        "id": "ada71c06"
      },
      "id": "ada71c06"
    },
    {
      "cell_type": "code",
      "source": [
        "arr21 = np.random.rand(10)\n",
        "print(np.sort(arr21))"
      ],
      "metadata": {
        "id": "TPMqaavROM7g",
        "outputId": "5b973cb5-e2a7-4f20-b8f0-7a38329a6875",
        "colab": {
          "base_uri": "https://localhost:8080/"
        }
      },
      "id": "TPMqaavROM7g",
      "execution_count": null,
      "outputs": [
        {
          "output_type": "stream",
          "name": "stdout",
          "text": [
            "[0.02511277 0.03603941 0.06216412 0.26328831 0.28473688 0.46565029\n",
            " 0.69284663 0.70719578 0.96434865 0.98759854]\n"
          ]
        }
      ]
    },
    {
      "cell_type": "markdown",
      "id": "1e74d39e",
      "metadata": {
        "id": "1e74d39e"
      },
      "source": [
        "#### 22. Ikki tasodifiy A va B massiv yarating, ularning tengligini tekshiring"
      ]
    },
    {
      "cell_type": "markdown",
      "source": [
        "`💡Ishora` np.allclose, np.array_equal"
      ],
      "metadata": {
        "id": "eb0e066c"
      },
      "id": "eb0e066c"
    },
    {
      "cell_type": "code",
      "source": [
        "a22 = np.random.randint(-10, 10, (3, 3))\n",
        "b22 = np.random.randint(-10, 10, (3, 3))\n",
        "\n",
        "print(np.allclose(a22, b22))\n",
        "print(np.array_equal(a22, b22))"
      ],
      "metadata": {
        "id": "xHNWNZnwOT1r",
        "outputId": "709abb1e-5746-44b3-8b8b-644b24420e40",
        "colab": {
          "base_uri": "https://localhost:8080/"
        }
      },
      "id": "xHNWNZnwOT1r",
      "execution_count": null,
      "outputs": [
        {
          "output_type": "stream",
          "name": "stdout",
          "text": [
            "False\n",
            "False\n"
          ]
        }
      ]
    },
    {
      "cell_type": "markdown",
      "id": "78250c14",
      "metadata": {
        "id": "78250c14"
      },
      "source": [
        "  #### 23. O'lchamlari 6x3 va 3x4 matritsa tuzing va ularni o'zaro ko'paytiring.\n"
      ]
    },
    {
      "cell_type": "markdown",
      "source": [
        "`💡Ishora` np.dot or np.ones"
      ],
      "metadata": {
        "id": "2e482afe"
      },
      "id": "2e482afe"
    },
    {
      "cell_type": "code",
      "source": [
        "a23 = np.random.randint(-10, 10, (6, 3))\n",
        "b23 = np.random.randint(-10, 10, (3, 4))\n",
        "print(\"Mtritsa 1\\n\\n\", a23, \"\\n\\n\\nMatritsa 2 \\n\\n\", b23, \"\\n\\n\\nMtritsalar ko'paytmasi:\\n\")\n",
        "print(np.dot(a23, b23))"
      ],
      "metadata": {
        "id": "ZRlMgdT9POgS",
        "outputId": "3d140226-02eb-468c-b18c-179cce57a995",
        "colab": {
          "base_uri": "https://localhost:8080/"
        }
      },
      "id": "ZRlMgdT9POgS",
      "execution_count": null,
      "outputs": [
        {
          "output_type": "stream",
          "name": "stdout",
          "text": [
            "Mtritsa 1\n",
            "\n",
            " [[  8   0  -3]\n",
            " [  3   7   6]\n",
            " [  5   3  -3]\n",
            " [-10  -1   7]\n",
            " [ -8   2   7]\n",
            " [  5  -1   7]] \n",
            "\n",
            "\n",
            "Matritsa 2 \n",
            "\n",
            " [[ 0  7  2 -2]\n",
            " [ 3  9  5  1]\n",
            " [ 3  3 -2  1]] \n",
            "\n",
            "\n",
            "Mtritsalar ko'paytmasi:\n",
            "\n",
            "[[ -9  47  22 -19]\n",
            " [ 39 102  29   7]\n",
            " [  0  53  31 -10]\n",
            " [ 18 -58 -39  26]\n",
            " [ 27 -17 -20  25]\n",
            " [ 18  47  -9  -4]]\n"
          ]
        }
      ]
    },
    {
      "cell_type": "markdown",
      "id": "51898680",
      "metadata": {
        "id": "51898680"
      },
      "source": [
        "#### 24. Tasodifiy sonlardan iborat bo'lgan o'lchami 5 ga teng vektor yarating, so'ng uning eng katta qiymatini 0 ga o'zgartiring.\n"
      ]
    },
    {
      "cell_type": "markdown",
      "source": [
        "`💡Ishora` argmax"
      ],
      "metadata": {
        "id": "ee92ccaf"
      },
      "id": "ee92ccaf"
    },
    {
      "cell_type": "code",
      "source": [
        "a24 = np.random.uniform(-10, 0, 5)\n",
        "a24"
      ],
      "metadata": {
        "id": "v9DvyaTNPk_t",
        "outputId": "5489f76e-a75d-43c5-e1c5-e274e2e32f15",
        "colab": {
          "base_uri": "https://localhost:8080/"
        }
      },
      "id": "v9DvyaTNPk_t",
      "execution_count": null,
      "outputs": [
        {
          "output_type": "execute_result",
          "data": {
            "text/plain": [
              "array([-8.16824967, -7.49784964, -4.56108403, -6.90340293, -6.84461282])"
            ]
          },
          "metadata": {},
          "execution_count": 56
        }
      ]
    },
    {
      "cell_type": "markdown",
      "id": "129c342d",
      "metadata": {
        "id": "129c342d"
      },
      "source": [
        "#### 25. NumPy kutubxonasi yordamida kecha, bugun va ertangi kun sanalarini aniqlang.\n"
      ]
    },
    {
      "cell_type": "markdown",
      "source": [
        "`💡Ishora` np.datetime64, np.timedelta64"
      ],
      "metadata": {
        "id": "0fd2f947"
      },
      "id": "0fd2f947"
    },
    {
      "cell_type": "code",
      "source": [
        "today = np.datetime64(\"2025-04-14\")\n",
        "delta = np.timedelta64(1, \"D\")\n",
        "yesterday = today - delta\n",
        "tomorrow = today + delta\n",
        "\n",
        "print(\"Yesterday\", yesterday, \"\\nToday\", today, \"\\nTomorrow\", tomorrow)"
      ],
      "metadata": {
        "id": "dlljRGxkSitd",
        "outputId": "29ceb236-ba00-450b-ffa0-4fa3a09f4dac",
        "colab": {
          "base_uri": "https://localhost:8080/"
        }
      },
      "id": "dlljRGxkSitd",
      "execution_count": null,
      "outputs": [
        {
          "output_type": "stream",
          "name": "stdout",
          "text": [
            "Yesterday 2025-04-13 \n",
            "Today 2025-04-14 \n",
            "Tomorrow 2025-04-15\n"
          ]
        }
      ]
    },
    {
      "cell_type": "markdown",
      "id": "42f8b2f9",
      "metadata": {
        "id": "42f8b2f9"
      },
      "source": [
        "#### 26. 2016 yil yanvar oyiga to'g'ri keladigan barcha sanalarni NumPy kutubxonasi yordamida aniqlang.\n"
      ]
    },
    {
      "cell_type": "markdown",
      "source": [
        "`💡Ishora` np.arange(dtype=datetime64['D'])"
      ],
      "metadata": {
        "id": "SU1BWcA8Sw2M"
      },
      "id": "SU1BWcA8Sw2M"
    },
    {
      "cell_type": "code",
      "execution_count": null,
      "id": "5ad086b0",
      "metadata": {
        "id": "5ad086b0",
        "outputId": "f9b54a49-19ab-4b91-e896-e1d4740b9896",
        "colab": {
          "base_uri": "https://localhost:8080/"
        }
      },
      "outputs": [
        {
          "output_type": "execute_result",
          "data": {
            "text/plain": [
              "array(['2016-01-01', '2016-01-02', '2016-01-03', '2016-01-04',\n",
              "       '2016-01-05', '2016-01-06', '2016-01-07', '2016-01-08',\n",
              "       '2016-01-09', '2016-01-10', '2016-01-11', '2016-01-12',\n",
              "       '2016-01-13', '2016-01-14', '2016-01-15', '2016-01-16',\n",
              "       '2016-01-17', '2016-01-18', '2016-01-19', '2016-01-20',\n",
              "       '2016-01-21', '2016-01-22', '2016-01-23', '2016-01-24',\n",
              "       '2016-01-25', '2016-01-26', '2016-01-27', '2016-01-28',\n",
              "       '2016-01-29', '2016-01-30', '2016-01-31'], dtype='datetime64[D]')"
            ]
          },
          "metadata": {},
          "execution_count": 58
        }
      ],
      "source": [
        "dates = np.arange(\"2016-01-01\", \"2016-02-01\", dtype=np.datetime64)\n",
        "dates"
      ]
    },
    {
      "cell_type": "markdown",
      "id": "486df8ea",
      "metadata": {
        "id": "486df8ea"
      },
      "source": [
        "#### 27. 4 xil usul yordamida musbat sonlarning tasodifiy massivining butun son qismini ajratib oling.\n"
      ]
    },
    {
      "cell_type": "markdown",
      "source": [
        "`💡Ishora` %, np.floor, astype, np.trunc`"
      ],
      "metadata": {
        "id": "h4QM3bp9TDhb"
      },
      "id": "h4QM3bp9TDhb"
    },
    {
      "cell_type": "code",
      "execution_count": null,
      "id": "2680c1ca",
      "metadata": {
        "id": "2680c1ca",
        "outputId": "96d56003-125f-4863-eda8-d145a46c41db",
        "colab": {
          "base_uri": "https://localhost:8080/"
        }
      },
      "outputs": [
        {
          "output_type": "stream",
          "name": "stdout",
          "text": [
            "Original \n",
            " [[11.08743188  1.67363695 14.81476883]\n",
            " [13.31508553 14.97997278 15.9041367 ]] \n",
            "\n",
            "Method floor \n",
            " [[11.  1. 14.]\n",
            " [13. 14. 15.]] \n",
            "\n",
            "Method astype \n",
            " [[11  1 14]\n",
            " [13 14 15]] \n",
            "\n",
            "Method trunc \n",
            " [[11.  1. 14.]\n",
            " [13. 14. 15.]] \n",
            "\n",
            "Method % \n",
            " [[11.  1. 14.]\n",
            " [13. 14. 15.]] \n",
            "\n"
          ]
        }
      ],
      "source": [
        "a27 = np.random.uniform(0, 20, (2,3))\n",
        "print(\"Original \\n\", a27, \"\\n\")\n",
        "\n",
        "#1\n",
        "b27 = np.floor(a27)\n",
        "print(\"Method floor \\n\", b27, \"\\n\")\n",
        "\n",
        "#2\n",
        "c27 = a27.astype(int)\n",
        "print(\"Method astype \\n\", c27, \"\\n\")\n",
        "\n",
        "#3\n",
        "d27 = np.trunc(a27)\n",
        "print(\"Method trunc \\n\", d27, \"\\n\")\n",
        "\n",
        "#4\n",
        "f27 = a27-(a27 % 1)\n",
        "print(\"Method % \\n\", f27, \"\\n\")\n",
        "\n"
      ]
    },
    {
      "cell_type": "markdown",
      "id": "6415f02e",
      "metadata": {
        "id": "6415f02e"
      },
      "source": [
        "#### 28. Ixtiyoriy kichik massivlar yarating, ular yeg'indisini np.sum funksiyasidanda tezroq hisoblovchi dastur tuzing.\n"
      ]
    },
    {
      "cell_type": "markdown",
      "source": [
        "`💡Ishora` np.add.reduce"
      ],
      "metadata": {
        "id": "129e785f"
      },
      "id": "129e785f"
    },
    {
      "cell_type": "code",
      "source": [
        "a28 = np.random.randint(0, 100, (2, 3))\n",
        "b28 = np.random.randint(0, 100, (2, 3))\n",
        "sum1 = np.add.reduce(a28)\n",
        "sum2 = np.add.reduce(b28)\n",
        "\n",
        "print(\"Original\\n\", a28, \"\\n\\nsum1\\n\", sum1, \"\\n\\nsum2\\n\", sum2)"
      ],
      "metadata": {
        "id": "M0Xv2bB9VYQZ",
        "outputId": "9db4582f-cec9-4545-bd53-abcab356e24e",
        "colab": {
          "base_uri": "https://localhost:8080/"
        }
      },
      "id": "M0Xv2bB9VYQZ",
      "execution_count": null,
      "outputs": [
        {
          "output_type": "stream",
          "name": "stdout",
          "text": [
            "Original\n",
            " [[80 88 21]\n",
            " [93  3 28]] \n",
            "\n",
            "sum1\n",
            " [173  91  49] \n",
            "\n",
            "sum2\n",
            " [103 144  98]\n"
          ]
        }
      ]
    },
    {
      "cell_type": "markdown",
      "id": "58be9dd4",
      "metadata": {
        "id": "58be9dd4"
      },
      "source": [
        "#### 29. [1, 2, 3, 4, 5] vektor berilgan, har bir qiymat orasiga ketma-ket 3 ta nol raqamini yozuvchi dastur tuzing.\n"
      ]
    },
    {
      "cell_type": "markdown",
      "source": [
        "`💡Ishora` array[::4]"
      ],
      "metadata": {
        "id": "9cf9e134"
      },
      "id": "9cf9e134"
    },
    {
      "cell_type": "code",
      "source": [
        "a29 = np.array([1,2,3,4,5])\n",
        "needed_zeros = (len(a29)-1) * 3 + len(a29)\n",
        "zeros = np.zeros(needed_zeros, dtype = int)\n",
        "zeros[::4] = a29\n",
        "\n",
        "print(zeros)\n"
      ],
      "metadata": {
        "id": "Puqyx9ZRlSaa",
        "outputId": "985fae86-6449-4bb5-9d3d-7926b50d88d2",
        "colab": {
          "base_uri": "https://localhost:8080/"
        }
      },
      "id": "Puqyx9ZRlSaa",
      "execution_count": null,
      "outputs": [
        {
          "output_type": "stream",
          "name": "stdout",
          "text": [
            "[1 0 0 0 2 0 0 0 3 0 0 0 4 0 0 0 5]\n"
          ]
        }
      ]
    },
    {
      "cell_type": "markdown",
      "id": "781fa236",
      "metadata": {
        "id": "781fa236"
      },
      "source": [
        "#### 30. Quyidagi a massiv berilgan, a = [1,2,3,4,5,6,7,8,9,10,11,12,13,14] undan foydalangan holda siz quyidagi b massivni yarata olasizmi, b = [[1,2,3,4], [2,3,4,5], [3,4,5,6], ..., [11,12,13,14]]?\n"
      ]
    },
    {
      "cell_type": "markdown",
      "source": [
        "`💡Ishora` stride_tricks.as_strided\n",
        "\n",
        "> Добавить блок с цитатой\n",
        "\n"
      ],
      "metadata": {
        "id": "82e3d17e"
      },
      "id": "82e3d17e"
    },
    {
      "cell_type": "code",
      "source": [
        "from numpy.lib.stride_tricks import as_strided\n",
        "a = np.array([1,2,3,4,5,6,7,8,9,10,11,12,13,14])\n",
        "b = as_strided(a, shape = (11, 4), strides = (a.strides[0], a.strides[0]))\n",
        "b"
      ],
      "metadata": {
        "id": "S1H6ivCua3NZ",
        "colab": {
          "base_uri": "https://localhost:8080/"
        },
        "outputId": "683c349c-5022-4ebb-f2e4-3d4a94db218e"
      },
      "id": "S1H6ivCua3NZ",
      "execution_count": null,
      "outputs": [
        {
          "output_type": "execute_result",
          "data": {
            "text/plain": [
              "array([[ 1,  2,  3,  4],\n",
              "       [ 2,  3,  4,  5],\n",
              "       [ 3,  4,  5,  6],\n",
              "       [ 4,  5,  6,  7],\n",
              "       [ 5,  6,  7,  8],\n",
              "       [ 6,  7,  8,  9],\n",
              "       [ 7,  8,  9, 10],\n",
              "       [ 8,  9, 10, 11],\n",
              "       [ 9, 10, 11, 12],\n",
              "       [10, 11, 12, 13],\n",
              "       [11, 12, 13, 14]])"
            ]
          },
          "metadata": {},
          "execution_count": 62
        }
      ]
    },
    {
      "cell_type": "markdown",
      "id": "7d8dc135",
      "metadata": {
        "id": "7d8dc135"
      },
      "source": [
        "#### 31. Ixtiyoriy sonlardan tashkil topgan massiv yarating, unga o'xshash qiymatlar kiriting. So'ng, o'xshash qiymatlarni topuvchi dastur tuzing.\n"
      ]
    },
    {
      "cell_type": "markdown",
      "source": [
        "`💡Ishora` np.bincount, argmax"
      ],
      "metadata": {
        "id": "81844e99"
      },
      "id": "81844e99"
    },
    {
      "cell_type": "code",
      "source": [
        "bin = np.random.randint(0, 6, 9)\n",
        "print(bin, \"\\n\", np.bincount(bin))"
      ],
      "metadata": {
        "colab": {
          "base_uri": "https://localhost:8080/"
        },
        "id": "R3PxY4DTT5Cn",
        "outputId": "5bca65fc-4980-492e-ee3f-529f6cdd77f2"
      },
      "id": "R3PxY4DTT5Cn",
      "execution_count": null,
      "outputs": [
        {
          "output_type": "stream",
          "name": "stdout",
          "text": [
            "[5 2 1 3 4 1 0 4 5] \n",
            " [1 2 1 1 2 2]\n"
          ]
        }
      ]
    },
    {
      "cell_type": "code",
      "source": [
        "arg = np.random.randint(0, 10, (5, 4))\n",
        "arg\n",
        "print(arg, np.argmax(arg))"
      ],
      "metadata": {
        "id": "SiRaNwxjbaQN",
        "colab": {
          "base_uri": "https://localhost:8080/"
        },
        "outputId": "0b6dd1ae-9dbb-4642-ffaa-2057d53de960"
      },
      "id": "SiRaNwxjbaQN",
      "execution_count": null,
      "outputs": [
        {
          "output_type": "stream",
          "name": "stdout",
          "text": [
            "[[5 2 3 5]\n",
            " [8 9 0 5]\n",
            " [9 7 1 0]\n",
            " [0 7 0 1]\n",
            " [2 1 1 1]] 5\n"
          ]
        }
      ]
    },
    {
      "cell_type": "code",
      "source": [
        "arr31 = np.random.randint(0, 10, 15)\n",
        "argm = argmax(arr31)\n",
        "binc = np.bincount(arr31)\n",
        "arg_bin = np.argmax(binc)\n",
        "print(\"Original\\n\", arr31, \"\\n\\nargmax\\n\", argm, \"\\n\\nbincount\\n\", binc, \"\\n\\nCombined\\n\", arg_bin )"
      ],
      "metadata": {
        "colab": {
          "base_uri": "https://localhost:8080/"
        },
        "id": "Rxc6xry7Xg6F",
        "outputId": "c949be23-34e3-4ffa-adac-0ba2565f4cd7"
      },
      "id": "Rxc6xry7Xg6F",
      "execution_count": null,
      "outputs": [
        {
          "output_type": "stream",
          "name": "stdout",
          "text": [
            "Original\n",
            " [8 0 1 5 5 1 9 5 4 6 4 8 8 1 7] \n",
            "\n",
            "argmax\n",
            " 6 \n",
            "\n",
            "bincount\n",
            " [1 3 0 0 2 3 1 1 3 1] \n",
            "\n",
            "Combined\n",
            " 1\n"
          ]
        }
      ]
    },
    {
      "cell_type": "markdown",
      "source": [
        "#### BONUS!\n",
        "\n",
        "`💡O'zingiz javob berishni istagan savolni kiriting va unga javob bering!`"
      ],
      "metadata": {
        "id": "URzxwwODb0m_"
      },
      "id": "URzxwwODb0m_"
    },
    {
      "cell_type": "code",
      "source": [
        "print(\"Savol:\\nNumPy kutubxonasida np.where() funksiyasi yordamida qanday qilib massivdagi manfiy sonlarni 0 bilan almashtirish mumkin?\")"
      ],
      "metadata": {
        "id": "9xpR0GVrbzuk",
        "colab": {
          "base_uri": "https://localhost:8080/"
        },
        "outputId": "5d7e4bdc-ef2e-4e1f-ee9b-d898a9ae90ee"
      },
      "id": "9xpR0GVrbzuk",
      "execution_count": null,
      "outputs": [
        {
          "output_type": "stream",
          "name": "stdout",
          "text": [
            "Savol:\n",
            "NumPy kutubxonasida np.where() funksiyasi yordamida qanday qilib massivdagi manfiy sonlarni 0 bilan almashtirish mumkin?\n"
          ]
        }
      ]
    },
    {
      "cell_type": "code",
      "source": [
        "print(\"Javob:\\nnp.where() shart asosida massiv ichidagi qiymatlarni almashtirish uchun ishlatiladi.\\nMisol uchun, agar bizda manfiy va musbat sonlardan iborat massiv bo‘lsa: \")"
      ],
      "metadata": {
        "colab": {
          "base_uri": "https://localhost:8080/"
        },
        "id": "RAUxAgq3tWxK",
        "outputId": "d363d387-dbc4-4ea2-9a10-8563fbb32803"
      },
      "id": "RAUxAgq3tWxK",
      "execution_count": null,
      "outputs": [
        {
          "output_type": "stream",
          "name": "stdout",
          "text": [
            "Javob:\n",
            "np.where() shart asosida massiv ichidagi qiymatlarni almashtirish uchun ishlatiladi.\n",
            "Misol uchun, agar bizda manfiy va musbat sonlardan iborat massiv bo‘lsa: \n"
          ]
        }
      ]
    },
    {
      "cell_type": "code",
      "source": [
        "# np.where(shart, yangi_qiymat, asl_qiymat)\n",
        "\n",
        "a = np.array([5, -3, 7, -1, 0, -8, 4])\n",
        "a_new = np.where(a < 0, 0, a)\n",
        "print(a_new)"
      ],
      "metadata": {
        "colab": {
          "base_uri": "https://localhost:8080/"
        },
        "id": "ktPiodlft8HW",
        "outputId": "b3a70a92-360e-48fd-bf1b-78fc529fc465"
      },
      "id": "ktPiodlft8HW",
      "execution_count": null,
      "outputs": [
        {
          "output_type": "stream",
          "name": "stdout",
          "text": [
            "[5 0 7 0 0 0 4]\n"
          ]
        }
      ]
    }
  ],
  "metadata": {
    "hide_input": false,
    "kernelspec": {
      "display_name": "Python 3",
      "language": "python",
      "name": "python3"
    },
    "language_info": {
      "codemirror_mode": {
        "name": "ipython",
        "version": 3
      },
      "file_extension": ".py",
      "mimetype": "text/x-python",
      "name": "python",
      "nbconvert_exporter": "python",
      "pygments_lexer": "ipython3",
      "version": "3.8.8"
    },
    "toc": {
      "base_numbering": 1,
      "nav_menu": {},
      "number_sections": true,
      "sideBar": true,
      "skip_h1_title": false,
      "title_cell": "Table of Contents",
      "title_sidebar": "Contents",
      "toc_cell": false,
      "toc_position": {},
      "toc_section_display": true,
      "toc_window_display": false
    },
    "varInspector": {
      "cols": {
        "lenName": 16,
        "lenType": 16,
        "lenVar": 40
      },
      "kernels_config": {
        "python": {
          "delete_cmd_postfix": "",
          "delete_cmd_prefix": "del ",
          "library": "var_list.py",
          "varRefreshCmd": "print(var_dic_list())"
        },
        "r": {
          "delete_cmd_postfix": ") ",
          "delete_cmd_prefix": "rm(",
          "library": "var_list.r",
          "varRefreshCmd": "cat(var_dic_list()) "
        }
      },
      "types_to_exclude": [
        "module",
        "function",
        "builtin_function_or_method",
        "instance",
        "_Feature"
      ],
      "window_display": false
    },
    "colab": {
      "provenance": [],
      "include_colab_link": true
    }
  },
  "nbformat": 4,
  "nbformat_minor": 5
}